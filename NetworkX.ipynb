{
 "cells": [
  {
   "cell_type": "code",
   "execution_count": 1,
   "metadata": {},
   "outputs": [],
   "source": [
    "import networkx as nx\n",
    "from networkx import *\n",
    "\n",
    "import pandas as pd\n",
    "\n",
    "from collections import defaultdict"
   ]
  },
  {
   "cell_type": "code",
   "execution_count": 2,
   "metadata": {},
   "outputs": [],
   "source": [
    "ratings = pd.read_csv('data/training.csv')"
   ]
  },
  {
   "cell_type": "code",
   "execution_count": 3,
   "metadata": {},
   "outputs": [],
   "source": [
    "ratings.loc[:, 'user'] = ratings.user.apply(lambda x: f'u{x}')\n",
    "ratings.loc[:, 'movie'] = ratings.movie.apply(lambda x: f'm{x}')"
   ]
  },
  {
   "cell_type": "code",
   "execution_count": 4,
   "metadata": {},
   "outputs": [],
   "source": [
    "G = networkx.graph.Graph()\n",
    "\n",
    "#Add nodes\n",
    "G.add_nodes_from(ratings.user, bipartite='Users')\n",
    "G.add_nodes_from(ratings.movie, bipartite='Movies')\n",
    "\n",
    "\n",
    "G.add_weighted_edges_from(list(zip(ratings.user, ratings.movie, ratings.rating)))"
   ]
  },
  {
   "cell_type": "raw",
   "metadata": {},
   "source": [
    "for nodes in G.nodes():\n",
    "  # Every node is in the format 'u1123' or 'p123'\n",
    "    if(nodes[:1]=='m'):\n",
    "        G.nodes[nodes]['bipartite'] = 'projects'\n",
    "    else:\n",
    "        G.nodes[nodes]['bipartite'] = 'users'"
   ]
  },
  {
   "cell_type": "code",
   "execution_count": null,
   "metadata": {},
   "outputs": [],
   "source": [
    "print(\"radius: %d\" % radius(G))"
   ]
  },
  {
   "cell_type": "code",
   "execution_count": null,
   "metadata": {},
   "outputs": [],
   "source": []
  },
  {
   "cell_type": "code",
   "execution_count": 5,
   "metadata": {},
   "outputs": [
    {
     "name": "stdout",
     "output_type": "stream",
     "text": [
      "0\n",
      "0\n"
     ]
    }
   ],
   "source": [
    "# Define get_nodes_from_partition()\n",
    "def get_nodes_from_partition(G,partition):\n",
    "    # Initialize an empty list for nodes to be returned\n",
    "    nodes = []\n",
    "    # Iterate over each node in the graph G\n",
    "    for n in G.nodes():\n",
    "        # Check that the node belongs to the particular partition\n",
    "        if G.nodes[n]['bipartite'] == partition:\n",
    "            # If so, append it to the list of nodes\n",
    "            nodes.append(n)\n",
    "    return nodes\n",
    "\n",
    "# Print the number of nodes in the 'users' partition\n",
    "print(len(get_nodes_from_partition(G, 'users')))\n",
    "print(len(get_nodes_from_partition(G, 'projects')))"
   ]
  },
  {
   "cell_type": "code",
   "execution_count": null,
   "metadata": {},
   "outputs": [],
   "source": []
  }
 ],
 "metadata": {
  "kernelspec": {
   "display_name": "Python 3",
   "language": "python",
   "name": "python3"
  },
  "language_info": {
   "codemirror_mode": {
    "name": "ipython",
    "version": 3
   },
   "file_extension": ".py",
   "mimetype": "text/x-python",
   "name": "python",
   "nbconvert_exporter": "python",
   "pygments_lexer": "ipython3",
   "version": "3.8.5"
  }
 },
 "nbformat": 4,
 "nbformat_minor": 4
}
